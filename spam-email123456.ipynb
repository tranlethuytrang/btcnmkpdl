{
 "cells": [
  {
   "cell_type": "code",
   "execution_count": 1,
   "id": "bb76b744",
   "metadata": {
    "_cell_guid": "b1076dfc-b9ad-4769-8c92-a6c4dae69d19",
    "_uuid": "8f2839f25d086af736a60e9eeb907d3b93b6e0e5",
    "execution": {
     "iopub.execute_input": "2022-04-08T14:10:30.751456Z",
     "iopub.status.busy": "2022-04-08T14:10:30.750130Z",
     "iopub.status.idle": "2022-04-08T14:10:30.768320Z",
     "shell.execute_reply": "2022-04-08T14:10:30.767496Z",
     "shell.execute_reply.started": "2022-04-08T14:09:40.825056Z"
    },
    "papermill": {
     "duration": 0.037537,
     "end_time": "2022-04-08T14:10:30.768491",
     "exception": false,
     "start_time": "2022-04-08T14:10:30.730954",
     "status": "completed"
    },
    "tags": []
   },
   "outputs": [
    {
     "name": "stdout",
     "output_type": "stream",
     "text": [
      "/kaggle/input/spam-email-data/spam_email.txt\n"
     ]
    }
   ],
   "source": [
    "# This Python 3 environment comes with many helpful analytics libraries installed\n",
    "# It is defined by the kaggle/python Docker image: https://github.com/kaggle/docker-python\n",
    "# For example, here's several helpful packages to load\n",
    "\n",
    "import numpy as np # linear algebra\n",
    "import pandas as pd # data processing, CSV file I/O (e.g. pd.read_csv)\n",
    "\n",
    "# Input data files are available in the read-only \"../input/\" directory\n",
    "# For example, running this (by clicking run or pressing Shift+Enter) will list all files under the input directory\n",
    "\n",
    "import os\n",
    "for dirname, _, filenames in os.walk('/kaggle/input'):\n",
    "    for filename in filenames:\n",
    "        print(os.path.join(dirname, filename))\n",
    "\n",
    "# You can write up to 20GB to the current directory (/kaggle/working/) that gets preserved as output when you create a version using \"Save & Run All\" \n",
    "# You can also write temporary files to /kaggle/temp/, but they won't be saved outside of the current session"
   ]
  },
  {
   "cell_type": "code",
   "execution_count": 2,
   "id": "c4796203",
   "metadata": {
    "execution": {
     "iopub.execute_input": "2022-04-08T14:10:30.803386Z",
     "iopub.status.busy": "2022-04-08T14:10:30.800072Z",
     "iopub.status.idle": "2022-04-08T14:10:31.023819Z",
     "shell.execute_reply": "2022-04-08T14:10:31.024376Z",
     "shell.execute_reply.started": "2022-04-08T14:09:40.863378Z"
    },
    "papermill": {
     "duration": 0.241132,
     "end_time": "2022-04-08T14:10:31.024561",
     "exception": false,
     "start_time": "2022-04-08T14:10:30.783429",
     "status": "completed"
    },
    "tags": []
   },
   "outputs": [
    {
     "data": {
      "text/html": [
       "<div>\n",
       "<style scoped>\n",
       "    .dataframe tbody tr th:only-of-type {\n",
       "        vertical-align: middle;\n",
       "    }\n",
       "\n",
       "    .dataframe tbody tr th {\n",
       "        vertical-align: top;\n",
       "    }\n",
       "\n",
       "    .dataframe thead th {\n",
       "        text-align: right;\n",
       "    }\n",
       "</style>\n",
       "<table border=\"1\" class=\"dataframe\">\n",
       "  <thead>\n",
       "    <tr style=\"text-align: right;\">\n",
       "      <th></th>\n",
       "      <th>make</th>\n",
       "      <th>address</th>\n",
       "      <th>all</th>\n",
       "      <th>3d</th>\n",
       "      <th>our</th>\n",
       "      <th>over</th>\n",
       "      <th>remove</th>\n",
       "      <th>internet</th>\n",
       "      <th>order</th>\n",
       "      <th>mail</th>\n",
       "      <th>...</th>\n",
       "      <th>conference</th>\n",
       "      <th>semicol</th>\n",
       "      <th>paren</th>\n",
       "      <th>bracket</th>\n",
       "      <th>bang</th>\n",
       "      <th>dollar</th>\n",
       "      <th>pound</th>\n",
       "      <th>cap_avg</th>\n",
       "      <th>cap_long</th>\n",
       "      <th>cap_total</th>\n",
       "    </tr>\n",
       "  </thead>\n",
       "  <tbody>\n",
       "    <tr>\n",
       "      <th>count</th>\n",
       "      <td>4601.000000</td>\n",
       "      <td>4601.000000</td>\n",
       "      <td>4601.000000</td>\n",
       "      <td>4601.000000</td>\n",
       "      <td>4601.000000</td>\n",
       "      <td>4601.000000</td>\n",
       "      <td>4601.000000</td>\n",
       "      <td>4601.000000</td>\n",
       "      <td>4601.000000</td>\n",
       "      <td>4601.000000</td>\n",
       "      <td>...</td>\n",
       "      <td>4601.000000</td>\n",
       "      <td>4601.000000</td>\n",
       "      <td>4601.000000</td>\n",
       "      <td>4601.000000</td>\n",
       "      <td>4601.000000</td>\n",
       "      <td>4601.000000</td>\n",
       "      <td>4601.000000</td>\n",
       "      <td>4601.000000</td>\n",
       "      <td>4601.000000</td>\n",
       "      <td>4601.000000</td>\n",
       "    </tr>\n",
       "    <tr>\n",
       "      <th>mean</th>\n",
       "      <td>0.104553</td>\n",
       "      <td>0.213015</td>\n",
       "      <td>0.280656</td>\n",
       "      <td>0.065425</td>\n",
       "      <td>0.312223</td>\n",
       "      <td>0.095901</td>\n",
       "      <td>0.114208</td>\n",
       "      <td>0.105295</td>\n",
       "      <td>0.090067</td>\n",
       "      <td>0.239413</td>\n",
       "      <td>...</td>\n",
       "      <td>0.031869</td>\n",
       "      <td>0.038575</td>\n",
       "      <td>0.139030</td>\n",
       "      <td>0.016976</td>\n",
       "      <td>0.269071</td>\n",
       "      <td>0.075811</td>\n",
       "      <td>0.044238</td>\n",
       "      <td>5.191515</td>\n",
       "      <td>52.172789</td>\n",
       "      <td>283.289285</td>\n",
       "    </tr>\n",
       "    <tr>\n",
       "      <th>std</th>\n",
       "      <td>0.305358</td>\n",
       "      <td>1.290575</td>\n",
       "      <td>0.504143</td>\n",
       "      <td>1.395151</td>\n",
       "      <td>0.672513</td>\n",
       "      <td>0.273824</td>\n",
       "      <td>0.391441</td>\n",
       "      <td>0.401071</td>\n",
       "      <td>0.278616</td>\n",
       "      <td>0.644755</td>\n",
       "      <td>...</td>\n",
       "      <td>0.285735</td>\n",
       "      <td>0.243471</td>\n",
       "      <td>0.270355</td>\n",
       "      <td>0.109394</td>\n",
       "      <td>0.815672</td>\n",
       "      <td>0.245882</td>\n",
       "      <td>0.429342</td>\n",
       "      <td>31.729449</td>\n",
       "      <td>194.891310</td>\n",
       "      <td>606.347851</td>\n",
       "    </tr>\n",
       "    <tr>\n",
       "      <th>min</th>\n",
       "      <td>0.000000</td>\n",
       "      <td>0.000000</td>\n",
       "      <td>0.000000</td>\n",
       "      <td>0.000000</td>\n",
       "      <td>0.000000</td>\n",
       "      <td>0.000000</td>\n",
       "      <td>0.000000</td>\n",
       "      <td>0.000000</td>\n",
       "      <td>0.000000</td>\n",
       "      <td>0.000000</td>\n",
       "      <td>...</td>\n",
       "      <td>0.000000</td>\n",
       "      <td>0.000000</td>\n",
       "      <td>0.000000</td>\n",
       "      <td>0.000000</td>\n",
       "      <td>0.000000</td>\n",
       "      <td>0.000000</td>\n",
       "      <td>0.000000</td>\n",
       "      <td>1.000000</td>\n",
       "      <td>1.000000</td>\n",
       "      <td>1.000000</td>\n",
       "    </tr>\n",
       "    <tr>\n",
       "      <th>25%</th>\n",
       "      <td>0.000000</td>\n",
       "      <td>0.000000</td>\n",
       "      <td>0.000000</td>\n",
       "      <td>0.000000</td>\n",
       "      <td>0.000000</td>\n",
       "      <td>0.000000</td>\n",
       "      <td>0.000000</td>\n",
       "      <td>0.000000</td>\n",
       "      <td>0.000000</td>\n",
       "      <td>0.000000</td>\n",
       "      <td>...</td>\n",
       "      <td>0.000000</td>\n",
       "      <td>0.000000</td>\n",
       "      <td>0.000000</td>\n",
       "      <td>0.000000</td>\n",
       "      <td>0.000000</td>\n",
       "      <td>0.000000</td>\n",
       "      <td>0.000000</td>\n",
       "      <td>1.588000</td>\n",
       "      <td>6.000000</td>\n",
       "      <td>35.000000</td>\n",
       "    </tr>\n",
       "    <tr>\n",
       "      <th>50%</th>\n",
       "      <td>0.000000</td>\n",
       "      <td>0.000000</td>\n",
       "      <td>0.000000</td>\n",
       "      <td>0.000000</td>\n",
       "      <td>0.000000</td>\n",
       "      <td>0.000000</td>\n",
       "      <td>0.000000</td>\n",
       "      <td>0.000000</td>\n",
       "      <td>0.000000</td>\n",
       "      <td>0.000000</td>\n",
       "      <td>...</td>\n",
       "      <td>0.000000</td>\n",
       "      <td>0.000000</td>\n",
       "      <td>0.065000</td>\n",
       "      <td>0.000000</td>\n",
       "      <td>0.000000</td>\n",
       "      <td>0.000000</td>\n",
       "      <td>0.000000</td>\n",
       "      <td>2.276000</td>\n",
       "      <td>15.000000</td>\n",
       "      <td>95.000000</td>\n",
       "    </tr>\n",
       "    <tr>\n",
       "      <th>75%</th>\n",
       "      <td>0.000000</td>\n",
       "      <td>0.000000</td>\n",
       "      <td>0.420000</td>\n",
       "      <td>0.000000</td>\n",
       "      <td>0.380000</td>\n",
       "      <td>0.000000</td>\n",
       "      <td>0.000000</td>\n",
       "      <td>0.000000</td>\n",
       "      <td>0.000000</td>\n",
       "      <td>0.160000</td>\n",
       "      <td>...</td>\n",
       "      <td>0.000000</td>\n",
       "      <td>0.000000</td>\n",
       "      <td>0.188000</td>\n",
       "      <td>0.000000</td>\n",
       "      <td>0.315000</td>\n",
       "      <td>0.052000</td>\n",
       "      <td>0.000000</td>\n",
       "      <td>3.706000</td>\n",
       "      <td>43.000000</td>\n",
       "      <td>266.000000</td>\n",
       "    </tr>\n",
       "    <tr>\n",
       "      <th>max</th>\n",
       "      <td>4.540000</td>\n",
       "      <td>14.280000</td>\n",
       "      <td>5.100000</td>\n",
       "      <td>42.810000</td>\n",
       "      <td>10.000000</td>\n",
       "      <td>5.880000</td>\n",
       "      <td>7.270000</td>\n",
       "      <td>11.110000</td>\n",
       "      <td>5.260000</td>\n",
       "      <td>18.180000</td>\n",
       "      <td>...</td>\n",
       "      <td>10.000000</td>\n",
       "      <td>4.385000</td>\n",
       "      <td>9.752000</td>\n",
       "      <td>4.081000</td>\n",
       "      <td>32.478000</td>\n",
       "      <td>6.003000</td>\n",
       "      <td>19.829000</td>\n",
       "      <td>1102.500000</td>\n",
       "      <td>9989.000000</td>\n",
       "      <td>15841.000000</td>\n",
       "    </tr>\n",
       "  </tbody>\n",
       "</table>\n",
       "<p>8 rows × 57 columns</p>\n",
       "</div>"
      ],
      "text/plain": [
       "              make      address          all           3d          our  \\\n",
       "count  4601.000000  4601.000000  4601.000000  4601.000000  4601.000000   \n",
       "mean      0.104553     0.213015     0.280656     0.065425     0.312223   \n",
       "std       0.305358     1.290575     0.504143     1.395151     0.672513   \n",
       "min       0.000000     0.000000     0.000000     0.000000     0.000000   \n",
       "25%       0.000000     0.000000     0.000000     0.000000     0.000000   \n",
       "50%       0.000000     0.000000     0.000000     0.000000     0.000000   \n",
       "75%       0.000000     0.000000     0.420000     0.000000     0.380000   \n",
       "max       4.540000    14.280000     5.100000    42.810000    10.000000   \n",
       "\n",
       "              over       remove     internet        order         mail  ...  \\\n",
       "count  4601.000000  4601.000000  4601.000000  4601.000000  4601.000000  ...   \n",
       "mean      0.095901     0.114208     0.105295     0.090067     0.239413  ...   \n",
       "std       0.273824     0.391441     0.401071     0.278616     0.644755  ...   \n",
       "min       0.000000     0.000000     0.000000     0.000000     0.000000  ...   \n",
       "25%       0.000000     0.000000     0.000000     0.000000     0.000000  ...   \n",
       "50%       0.000000     0.000000     0.000000     0.000000     0.000000  ...   \n",
       "75%       0.000000     0.000000     0.000000     0.000000     0.160000  ...   \n",
       "max       5.880000     7.270000    11.110000     5.260000    18.180000  ...   \n",
       "\n",
       "        conference      semicol        paren      bracket         bang  \\\n",
       "count  4601.000000  4601.000000  4601.000000  4601.000000  4601.000000   \n",
       "mean      0.031869     0.038575     0.139030     0.016976     0.269071   \n",
       "std       0.285735     0.243471     0.270355     0.109394     0.815672   \n",
       "min       0.000000     0.000000     0.000000     0.000000     0.000000   \n",
       "25%       0.000000     0.000000     0.000000     0.000000     0.000000   \n",
       "50%       0.000000     0.000000     0.065000     0.000000     0.000000   \n",
       "75%       0.000000     0.000000     0.188000     0.000000     0.315000   \n",
       "max      10.000000     4.385000     9.752000     4.081000    32.478000   \n",
       "\n",
       "            dollar        pound      cap_avg     cap_long     cap_total  \n",
       "count  4601.000000  4601.000000  4601.000000  4601.000000   4601.000000  \n",
       "mean      0.075811     0.044238     5.191515    52.172789    283.289285  \n",
       "std       0.245882     0.429342    31.729449   194.891310    606.347851  \n",
       "min       0.000000     0.000000     1.000000     1.000000      1.000000  \n",
       "25%       0.000000     0.000000     1.588000     6.000000     35.000000  \n",
       "50%       0.000000     0.000000     2.276000    15.000000     95.000000  \n",
       "75%       0.052000     0.000000     3.706000    43.000000    266.000000  \n",
       "max       6.003000    19.829000  1102.500000  9989.000000  15841.000000  \n",
       "\n",
       "[8 rows x 57 columns]"
      ]
     },
     "execution_count": 2,
     "metadata": {},
     "output_type": "execute_result"
    }
   ],
   "source": [
    "import pandas as pd\n",
    "import numpy as np\n",
    "data = pd.read_csv('../input/spam-email-data/spam_email.txt',sep=' ')\n",
    "onlydata=data.loc[:,'make':'cap_total']\n",
    "onlydata.describe(include='all')"
   ]
  },
  {
   "cell_type": "code",
   "execution_count": 3,
   "id": "86f83030",
   "metadata": {
    "execution": {
     "iopub.execute_input": "2022-04-08T14:10:31.063308Z",
     "iopub.status.busy": "2022-04-08T14:10:31.062424Z",
     "iopub.status.idle": "2022-04-08T14:10:32.233419Z",
     "shell.execute_reply": "2022-04-08T14:10:32.232738Z",
     "shell.execute_reply.started": "2022-04-08T14:09:41.047966Z"
    },
    "papermill": {
     "duration": 1.192822,
     "end_time": "2022-04-08T14:10:32.233583",
     "exception": false,
     "start_time": "2022-04-08T14:10:31.040761",
     "status": "completed"
    },
    "tags": []
   },
   "outputs": [],
   "source": [
    "\n",
    "from sklearn.model_selection import train_test_split\n",
    "from sklearn import preprocessing\n",
    "X=onlydata.values\n",
    "yCG=data.values[:,57]\n",
    "y=np.zeros((yCG.size))\n",
    "y[yCG=='ham']=1\n",
    "X_train, X_test, y_train, y_test = train_test_split(X, y, test_size=0.3, random_state = 0)\n",
    "std_scaler = preprocessing.StandardScaler().fit(X_train)\n",
    "X_train_scaled = std_scaler.transform(X_train)\n",
    "X_test_scaled = std_scaler.transform(X_test)"
   ]
  },
  {
   "cell_type": "code",
   "execution_count": 4,
   "id": "8e5d7748",
   "metadata": {
    "execution": {
     "iopub.execute_input": "2022-04-08T14:10:32.268619Z",
     "iopub.status.busy": "2022-04-08T14:10:32.267511Z",
     "iopub.status.idle": "2022-04-08T14:10:32.957170Z",
     "shell.execute_reply": "2022-04-08T14:10:32.956521Z",
     "shell.execute_reply.started": "2022-04-08T14:09:42.109572Z"
    },
    "papermill": {
     "duration": 0.708097,
     "end_time": "2022-04-08T14:10:32.957318",
     "exception": false,
     "start_time": "2022-04-08T14:10:32.249221",
     "status": "completed"
    },
    "tags": []
   },
   "outputs": [
    {
     "data": {
      "text/plain": [
       "<matplotlib.legend.Legend at 0x7f315e97c590>"
      ]
     },
     "execution_count": 4,
     "metadata": {},
     "output_type": "execute_result"
    },
    {
     "data": {
      "image/png": "[encoded data removed]",
      "text/plain": [
       "<Figure size 432x288 with 2 Axes>"
      ]
     },
     "metadata": {
      "needs_background": "light"
     },
     "output_type": "display_data"
    }
   ],
   "source": [
    "from sklearn.decomposition import PCA\n",
    "import matplotlib.pyplot as plt\n",
    "pca= PCA(n_components=2)\n",
    "fig, (plt_train, plt_test) = plt.subplots(1, 2)\n",
    "data1=pca.fit_transform(X_train_scaled)\n",
    "h1=data1[(y_train==1)]\n",
    "h2=data1[(y_train==0)]\n",
    "plt_train.set_title('Train values :'+ str(X_train_scaled.shape))\n",
    "plt_train.scatter(h1[:,0],h1[:,1],marker='*',c=\"red\")\n",
    "plt_train.scatter(h2[:,0],h2[:,1],marker='+',c=\"black\")\n",
    "plt_train.legend(['lable 1','lable 0'])\n",
    "data2=pca.fit_transform(X_test_scaled)\n",
    "g1=data2[(y_test==1)]\n",
    "g2=data2[(y_test==0)]\n",
    "plt_test.set_title('Test values :'+str(X_test_scaled.shape))\n",
    "plt_test.scatter(g1[:,0],g1[:,1],marker='+',c=\"black\")\n",
    "plt_test.scatter(g2[:,0],g2[:,1],marker='*',c=\"pink\")\n",
    "plt_test.legend(['lable 1','lable 0'])"
   ]
  },
  {
   "cell_type": "code",
   "execution_count": 5,
   "id": "55b839ee",
   "metadata": {
    "execution": {
     "iopub.execute_input": "2022-04-08T14:10:32.996562Z",
     "iopub.status.busy": "2022-04-08T14:10:32.995515Z",
     "iopub.status.idle": "2022-04-08T14:10:32.998034Z",
     "shell.execute_reply": "2022-04-08T14:10:32.997549Z",
     "shell.execute_reply.started": "2022-04-08T14:09:42.722051Z"
    },
    "papermill": {
     "duration": 0.024335,
     "end_time": "2022-04-08T14:10:32.998238",
     "exception": false,
     "start_time": "2022-04-08T14:10:32.973903",
     "status": "completed"
    },
    "tags": []
   },
   "outputs": [],
   "source": [
    "from sklearn.decomposition import PCA\n",
    "import matplotlib.pyplot as plt\n",
    "pca= PCA(n_components=2)"
   ]
  },
  {
   "cell_type": "code",
   "execution_count": 6,
   "id": "03004814",
   "metadata": {
    "execution": {
     "iopub.execute_input": "2022-04-08T14:10:33.040498Z",
     "iopub.status.busy": "2022-04-08T14:10:33.039358Z",
     "iopub.status.idle": "2022-04-08T14:10:33.479748Z",
     "shell.execute_reply": "2022-04-08T14:10:33.479159Z",
     "shell.execute_reply.started": "2022-04-08T14:09:42.727931Z"
    },
    "papermill": {
     "duration": 0.46447,
     "end_time": "2022-04-08T14:10:33.479894",
     "exception": false,
     "start_time": "2022-04-08T14:10:33.015424",
     "status": "completed"
    },
    "tags": []
   },
   "outputs": [
    {
     "data": {
      "text/plain": [
       "<matplotlib.legend.Legend at 0x7f31568e9050>"
      ]
     },
     "execution_count": 6,
     "metadata": {},
     "output_type": "execute_result"
    },
    {
     "data": {
      "image/png": "[encoded data removed]",
      "text/plain": [
       "<Figure size 432x288 with 1 Axes>"
      ]
     },
     "metadata": {
      "needs_background": "light"
     },
     "output_type": "display_data"
    }
   ],
   "source": [
    "X_scaled = std_scaler.transform(X)\n",
    "datax=pca.fit_transform(X_scaled)\n",
    "x1=datax[(y==1)]\n",
    "x2=datax[(y==0)]\n",
    "plt.title('Train values :'+ str(X.shape))\n",
    "plt.scatter(x1[:,0],x1[:,1],marker='*',c=\"orange\")\n",
    "plt.scatter(x2[:,0],x2[:,1],marker='+',c=\"black\")\n",
    "plt.legend(['lable 1','lable 0'])"
   ]
  },
  {
   "cell_type": "code",
   "execution_count": 7,
   "id": "0a242194",
   "metadata": {
    "execution": {
     "iopub.execute_input": "2022-04-08T14:10:33.530933Z",
     "iopub.status.busy": "2022-04-08T14:10:33.530146Z",
     "iopub.status.idle": "2022-04-08T14:10:33.532857Z",
     "shell.execute_reply": "2022-04-08T14:10:33.533365Z",
     "shell.execute_reply.started": "2022-04-08T14:09:43.150218Z"
    },
    "papermill": {
     "duration": 0.034582,
     "end_time": "2022-04-08T14:10:33.533543",
     "exception": false,
     "start_time": "2022-04-08T14:10:33.498961",
     "status": "completed"
    },
    "tags": []
   },
   "outputs": [],
   "source": [
    "class RatingModel:\n",
    "    def __init__(self, y_, y_Pr):\n",
    "      self.y_=y_\n",
    "      self.y_Pr=y_Pr\n",
    "      self.TN=np.size(y_Pr[(y_Pr==-1)&(y_==y_Pr)])\n",
    "      self.FN=np.size(y_Pr[(y_Pr==-1)&(y_!=y_Pr)])\n",
    "      self.TP=np.size(y_Pr[(y_Pr==1)&(y_==y_Pr)])\n",
    "      self.FP=np.size(y_Pr[(y_Pr==1)&(y_!=y_Pr)])\n",
    "      self.y_[self.y_==0]=-1\n",
    "      self.y_Pr[self.y_Pr==0]=-1\n",
    "      # assert self.y_.set={1, -1}\n",
    "      # assert self.y_Pr.set={1, -1}\n",
    "    def __rep__():\n",
    "        return \"\"\n",
    "    def accur_Error(self, y_, y_Pr):\n",
    "        rs=(self.TP+self.TN)/(y_.size)\n",
    "        return [rs,(1-rs)]\n",
    "    def sensitivity(self):\n",
    "        P=np.size(self.y_[self.y_==1])\n",
    "        return (self.TP)/(P)\n",
    "    def specificity(self):\n",
    "        N=np.size(self.y_[self.y_==-1])\n",
    "        return (self.TN)/(N)\n",
    "    def precision(self):\n",
    "        rs=self.TP+self.FP\n",
    "        return (self.TP)/(rs)\n",
    "    def recall(self):\n",
    "        rs=self.TP+self.FN\n",
    "        return (self.TP)/(rs)\n",
    "    def rating(self):\n",
    "        return [self.accur_Error(self.y_, self.y_Pr), self.sensitivity(), self.specificity(), self.precision(), self.recall()]\n"
   ]
  },
  {
   "cell_type": "code",
   "execution_count": 8,
   "id": "5423fa1f",
   "metadata": {
    "execution": {
     "iopub.execute_input": "2022-04-08T14:10:33.578829Z",
     "iopub.status.busy": "2022-04-08T14:10:33.578112Z",
     "iopub.status.idle": "2022-04-08T14:10:33.587183Z",
     "shell.execute_reply": "2022-04-08T14:10:33.587754Z",
     "shell.execute_reply.started": "2022-04-08T14:09:43.163606Z"
    },
    "papermill": {
     "duration": 0.035571,
     "end_time": "2022-04-08T14:10:33.587934",
     "exception": false,
     "start_time": "2022-04-08T14:10:33.552363",
     "status": "completed"
    },
    "tags": []
   },
   "outputs": [],
   "source": [
    "class DecisionStump:\n",
    "    def __init__(self, T=100):\n",
    "        self.T = T\n",
    "        pass\n",
    "\n",
    "    def fit(self, X: np.ndarray, y: np.ndarray, sample_weight: np.ndarray):\n",
    "        T = self.T\n",
    "        W=sample_weight\n",
    "        nrow, ncol = X.shape\n",
    "        assert nrow == y.size\n",
    "\n",
    "        bestn = 0\n",
    "        bestd = 1\n",
    "        bestp = 0\n",
    "        minerr = W.sum()\n",
    "        for i in range(ncol):\n",
    "            err, d, p = self._optimize(X[:, i], y, W, T)\n",
    "            if err < minerr:\n",
    "                minerr = err\n",
    "                bestn = i\n",
    "                bestd = d\n",
    "                bestp = p\n",
    "        \n",
    "        self.features = ncol\n",
    "        self.bestn = bestn\n",
    "        self.bestd = bestd\n",
    "        self.bestp = bestp\n",
    "\n",
    "        return self\n",
    "\n",
    "    def _optimize(self, X, y, W, T):\n",
    "        X = X.flatten()\n",
    "        min_x, max_x = X.min(), X.max()\n",
    "        len_x = max_x - min_x\n",
    "        \n",
    "        bestd = 1\n",
    "        bestp = min_x\n",
    "        minerr = W.sum()\n",
    "\n",
    "        if len_x > 0.0:\n",
    "            for p in np.arange(min_x, max_x, len_x/T):\n",
    "                for d in [-1, 1]:\n",
    "                    gy = np.ones((y.size))\n",
    "                    gy[X*d < p*d] = -1\n",
    "                    err = np.sum((gy != y)*W)\n",
    "                    if err < minerr:\n",
    "                        minerr = err\n",
    "                        bestd = d\n",
    "                        bestp = p\n",
    "\n",
    "        return minerr, bestd, bestp\n",
    "\n",
    "    def predict(self, test_set : np.ndarray):\n",
    "        nrow, ncol = test_set.shape\n",
    "\n",
    "        assert ncol == self.features\n",
    "\n",
    "        icol = test_set[:, self.bestn]\n",
    "        h = np.ones((nrow))\n",
    "        h[icol*self.bestd < self.bestp*self.bestd] = -1\n",
    "        return h\n"
   ]
  },
  {
   "cell_type": "code",
   "execution_count": 9,
   "id": "0da5bdd4",
   "metadata": {
    "execution": {
     "iopub.execute_input": "2022-04-08T14:10:33.627249Z",
     "iopub.status.busy": "2022-04-08T14:10:33.626462Z",
     "iopub.status.idle": "2022-04-08T14:10:33.646014Z",
     "shell.execute_reply": "2022-04-08T14:10:33.646559Z",
     "shell.execute_reply.started": "2022-04-08T14:09:43.183360Z"
    },
    "papermill": {
     "duration": 0.040995,
     "end_time": "2022-04-08T14:10:33.646747",
     "exception": false,
     "start_time": "2022-04-08T14:10:33.605752",
     "status": "completed"
    },
    "tags": []
   },
   "outputs": [],
   "source": [
    "class AdaBoost:\n",
    "    def __init__(self , T, hmodel = DecisionStump()):\n",
    "        self.T=T\n",
    "        self.hmodel=hmodel\n",
    "    def fit(self, X: np.ndarray, y_: np.ndarray, verbose=False):\n",
    "      n = X.shape[0]\n",
    "      T = self.T\n",
    "      y=y_\n",
    "      y[y==0]=-1\n",
    "    # init numpy arrays\n",
    "      self.D = np.zeros(shape=(T, n))\n",
    "      self.h = np.zeros(shape=T, dtype=object)\n",
    "      self.alpha = np.zeros(shape=T)\n",
    "      self.errors = np.zeros(shape=T)\n",
    "      self.ratting = np.zeros(shape=(T,2))\n",
    "\n",
    "      # initialize weights uniformly\n",
    "      self.D[0] = np.ones(shape=n) / n\n",
    "\n",
    "      for t in range(T):\n",
    "          # fit  weak learner\n",
    "          D_ = self.D[t]\n",
    "          h_ = DecisionStump(50)\n",
    "          h_ = h_.fit(X, y, D_)\n",
    "\n",
    "          # calculate error and stump weight from weak learner prediction\n",
    "          Pr_ = h_.predict(X)\n",
    "          error_ = D_[(Pr_ != y)].sum()# / n\n",
    "          alpha_ = np.log((1 - error_) / error_) / 2\n",
    "\n",
    "          # update sample weights\n",
    "          D_new = (\n",
    "              D_ * np.exp(-alpha_ * y * Pr_)\n",
    "          )\n",
    "          \n",
    "          D_new /= D_new.sum()\n",
    "\n",
    "          # If not final iteration, update sample weights for t+1\n",
    "          if t+1 < T:\n",
    "              self.D[t+1] = D_new\n",
    "\n",
    "          # save results of iteration\n",
    "          self.h[t] = h_\n",
    "          self.alpha[t] = alpha_\n",
    "          self.errors[t] = error_\n",
    "          # ae=np.array([0,0])\n",
    "          if t>0:\n",
    "            Pr_temp=self.predictmodul(X,t)\n",
    "            modelra=RatingModel(y, Pr_temp)\n",
    "            self.ratting[t,:]=modelra.accur_Error(y, Pr_temp)\n",
    "            if verbose: print('{0}-th weak: accuracy={1}, error={2}'.format (t, self.ratting[t,0], self.ratting[t,1]))\n",
    "      return self\n",
    "    def predict(self, X):\n",
    "        Pr_ = np.array([h_.predict(X) for h_ in self.h])\n",
    "        return np.sign(np.dot(self.alpha, Pr_))\n",
    "    def predictmodul(self, X, i):\n",
    "        h_temp=self.h[:i]\n",
    "        alpha_temp=self.alpha[:i]\n",
    "        Pr_ = np.array([h_.predict(X) for h_ in h_temp])\n",
    "        return np.sign(np.dot(alpha_temp, Pr_))\n",
    "\n"
   ]
  },
  {
   "cell_type": "code",
   "execution_count": 10,
   "id": "4739afdc",
   "metadata": {
    "execution": {
     "iopub.execute_input": "2022-04-08T14:10:33.686364Z",
     "iopub.status.busy": "2022-04-08T14:10:33.685548Z",
     "iopub.status.idle": "2022-04-08T14:10:46.887406Z",
     "shell.execute_reply": "2022-04-08T14:10:46.889022Z",
     "shell.execute_reply.started": "2022-04-08T14:09:43.203070Z"
    },
    "papermill": {
     "duration": 13.224375,
     "end_time": "2022-04-08T14:10:46.889361",
     "exception": false,
     "start_time": "2022-04-08T14:10:33.664986",
     "status": "completed"
    },
    "tags": []
   },
   "outputs": [
    {
     "name": "stdout",
     "output_type": "stream",
     "text": [
      "1-th weak: accuracy=0.7835403726708075, error=0.21645962732919255\n",
      "2-th weak: accuracy=0.7835403726708075, error=0.21645962732919255\n",
      "3-th weak: accuracy=0.8540372670807453, error=0.14596273291925466\n",
      "4-th weak: accuracy=0.8270186335403726, error=0.17298136645962736\n",
      "5-th weak: accuracy=0.882919254658385, error=0.11708074534161494\n",
      "6-th weak: accuracy=0.8698757763975156, error=0.13012422360248443\n",
      "7-th weak: accuracy=0.8959627329192547, error=0.10403726708074534\n",
      "8-th weak: accuracy=0.8785714285714286, error=0.12142857142857144\n",
      "9-th weak: accuracy=0.8981366459627329, error=0.1018633540372671\n",
      "10-th weak: accuracy=0.8832298136645963, error=0.1167701863354037\n",
      "11-th weak: accuracy=0.8993788819875776, error=0.10062111801242235\n",
      "12-th weak: accuracy=0.9046583850931676, error=0.09534161490683235\n",
      "13-th weak: accuracy=0.9083850931677019, error=0.09161490683229812\n",
      "14-th weak: accuracy=0.9055900621118013, error=0.09440993788819874\n",
      "15-th weak: accuracy=0.9093167701863354, error=0.09068322981366461\n",
      "16-th weak: accuracy=0.9062111801242236, error=0.09378881987577636\n",
      "17-th weak: accuracy=0.9080745341614906, error=0.09192546583850936\n",
      "18-th weak: accuracy=0.9083850931677019, error=0.09161490683229812\n",
      "19-th weak: accuracy=0.9102484472049689, error=0.08975155279503111\n",
      "20-th weak: accuracy=0.9080745341614906, error=0.09192546583850936\n",
      "21-th weak: accuracy=0.9102484472049689, error=0.08975155279503111\n",
      "22-th weak: accuracy=0.9111801242236025, error=0.0888198757763975\n",
      "23-th weak: accuracy=0.9142857142857143, error=0.08571428571428574\n",
      "24-th weak: accuracy=0.9130434782608695, error=0.08695652173913049\n",
      "25-th weak: accuracy=0.9118012422360249, error=0.08819875776397512\n",
      "26-th weak: accuracy=0.9133540372670808, error=0.08664596273291925\n",
      "27-th weak: accuracy=0.9136645962732919, error=0.08633540372670812\n",
      "28-th weak: accuracy=0.9149068322981366, error=0.08509316770186337\n",
      "29-th weak: accuracy=0.9145962732919255, error=0.0854037267080745\n",
      "30-th weak: accuracy=0.9149068322981366, error=0.08509316770186337\n",
      "31-th weak: accuracy=0.9158385093167701, error=0.08416149068322987\n",
      "32-th weak: accuracy=0.9167701863354037, error=0.08322981366459625\n",
      "33-th weak: accuracy=0.9173913043478261, error=0.08260869565217388\n",
      "34-th weak: accuracy=0.9167701863354037, error=0.08322981366459625\n",
      "35-th weak: accuracy=0.9195652173913044, error=0.08043478260869563\n",
      "36-th weak: accuracy=0.918944099378882, error=0.081055900621118\n",
      "37-th weak: accuracy=0.9208074534161491, error=0.07919254658385089\n",
      "38-th weak: accuracy=0.918944099378882, error=0.081055900621118\n",
      "39-th weak: accuracy=0.9208074534161491, error=0.07919254658385089\n",
      "40-th weak: accuracy=0.9217391304347826, error=0.07826086956521738\n",
      "41-th weak: accuracy=0.9229813664596274, error=0.07701863354037264\n",
      "42-th weak: accuracy=0.9226708074534161, error=0.07732919254658388\n",
      "43-th weak: accuracy=0.9229813664596274, error=0.07701863354037264\n",
      "44-th weak: accuracy=0.9226708074534161, error=0.07732919254658388\n",
      "45-th weak: accuracy=0.9214285714285714, error=0.07857142857142863\n",
      "46-th weak: accuracy=0.9232919254658385, error=0.07670807453416151\n",
      "47-th weak: accuracy=0.9226708074534161, error=0.07732919254658388\n",
      "48-th weak: accuracy=0.9236024844720497, error=0.07639751552795027\n",
      "49-th weak: accuracy=0.9229813664596274, error=0.07701863354037264\n",
      "[ 1.  1.  1. ... -1. -1.  1.] [1. 1. 1. ... 0. 0. 1.]\n"
     ]
    }
   ],
   "source": [
    "model=AdaBoost(50)\n",
    "model=model.fit(X_train_scaled, y_train,  True )\n",
    "Pr=model.predict( X_test_scaled)\n",
    "Pr[(Pr==0)]=-1\n",
    "print(Pr, y_test)\n"
   ]
  },
  {
   "cell_type": "code",
   "execution_count": 11,
   "id": "197a39f0",
   "metadata": {
    "execution": {
     "iopub.execute_input": "2022-04-08T14:10:47.025443Z",
     "iopub.status.busy": "2022-04-08T14:10:47.024744Z",
     "iopub.status.idle": "2022-04-08T14:10:47.459184Z",
     "shell.execute_reply": "2022-04-08T14:10:47.459753Z",
     "shell.execute_reply.started": "2022-04-08T14:09:54.057603Z"
    },
    "papermill": {
     "duration": 0.503905,
     "end_time": "2022-04-08T14:10:47.459928",
     "exception": false,
     "start_time": "2022-04-08T14:10:46.956023",
     "status": "completed"
    },
    "tags": []
   },
   "outputs": [
    {
     "data": {
      "text/plain": [
       "Text(0, 0.5, 'Loss/Accuracy')"
      ]
     },
     "execution_count": 11,
     "metadata": {},
     "output_type": "execute_result"
    },
    {
     "data": {
      "image/png": "[encoded data removed]",
      "text/plain": [
       "<Figure size 432x288 with 1 Axes>"
      ]
     },
     "metadata": {
      "needs_background": "light"
     },
     "output_type": "display_data"
    }
   ],
   "source": [
    "ra_Xtest = np.zeros(shape=(model.T,2))\n",
    "for i in range(1,model.T):\n",
    "  Pr_i=model.predictmodul(X_test_scaled,i)\n",
    "  modelra=RatingModel(y_test, Pr_i)\n",
    "  ra_Xtest[i,:]=modelra.accur_Error(y_test, Pr_i)\n",
    "ra_Xtrain = np.zeros(shape=(model.T,2))\n",
    "for i in range(1,model.T):\n",
    "  Pr_i=model.predictmodul(X_train_scaled,i)\n",
    "  modelra=RatingModel(y_train, Pr_i)\n",
    "  ra_Xtrain[i,:]=modelra.accur_Error(y_train, Pr_i)\n",
    "iter=range(model.T)\n",
    "plt.plot(iter,ra_Xtest[:,0],'y-', label='Test accuracy')\n",
    "plt.plot(iter,ra_Xtest[:,1],'r-', label='Test error')\n",
    "plt.plot(iter,ra_Xtrain[:,0],'y--', label='Train accuracy')\n",
    "plt.plot(iter,ra_Xtrain[:,1],'r--', label='Train error')\n",
    "plt.legend(loc='center right')\n",
    "plt.xlabel('Iter')\n",
    "plt.ylabel('Loss/Accuracy')"
   ]
  },
  {
   "cell_type": "code",
   "execution_count": 12,
   "id": "3b259cf3",
   "metadata": {
    "execution": {
     "iopub.execute_input": "2022-04-08T14:10:47.546762Z",
     "iopub.status.busy": "2022-04-08T14:10:47.545892Z",
     "iopub.status.idle": "2022-04-08T14:10:47.804550Z",
     "shell.execute_reply": "2022-04-08T14:10:47.805038Z",
     "shell.execute_reply.started": "2022-04-08T14:09:54.449384Z"
    },
    "papermill": {
     "duration": 0.308318,
     "end_time": "2022-04-08T14:10:47.805230",
     "exception": false,
     "start_time": "2022-04-08T14:10:47.496912",
     "status": "completed"
    },
    "tags": []
   },
   "outputs": [
    {
     "name": "stdout",
     "output_type": "stream",
     "text": [
      "110 (1381,)\n"
     ]
    },
    {
     "data": {
      "text/plain": [
       "<matplotlib.legend.Legend at 0x7f31567ec7d0>"
      ]
     },
     "execution_count": 12,
     "metadata": {},
     "output_type": "execute_result"
    },
    {
     "data": {
      "image/png": "[encoded data removed]",
      "text/plain": [
       "<Figure size 432x288 with 1 Axes>"
      ]
     },
     "metadata": {
      "needs_background": "light"
     },
     "output_type": "display_data"
    }
   ],
   "source": [
    "sumerror=0;\n",
    "y_new=y_test\n",
    "y_new[y_new==0]=-1\n",
    "for i in range(y_new.shape[0]):\n",
    "  if y_new[i]!=Pr[i]: \n",
    "    sumerror+=1\n",
    "print(sumerror, y_new.shape)\n",
    "gT1=data2[(Pr==1)]\n",
    "gT0=data2[(Pr==-1)]\n",
    "gF1=data2[(y_new!=Pr)&(Pr==1)]\n",
    "gF0=data2[(y_new!=Pr)&(Pr==-1)]\n",
    "plt.title('Test values errors :'+str(sumerror)+'/ '+str(X_test_scaled.shape[0]))\n",
    "# plt.scatter(gF[:,0],gF[:,1], c=\"red\")\n",
    "plt.scatter(gT1[:,0],gT1[:,1], marker='*')\n",
    "plt.scatter(gT0[:,0],gT0[:,1], marker='x')\n",
    "plt.scatter(gF1[:,0],gF1[:,1], marker='s')\n",
    "plt.scatter(gF0[:,0],gF0[:,1], marker='+')\n",
    "plt.legend(['TP C','TN G','FP C','FN G'])"
   ]
  }
 ],
 "metadata": {
  "kernelspec": {
   "display_name": "Python 3",
   "language": "python",
   "name": "python3"
  },
  "language_info": {
   "codemirror_mode": {
    "name": "ipython",
    "version": 3
   },
   "file_extension": ".py",
   "mimetype": "text/x-python",
   "name": "python",
   "nbconvert_exporter": "python",
   "pygments_lexer": "ipython3",
   "version": "3.7.12"
  },
  "papermill": {
   "default_parameters": {},
   "duration": 27.841056,
   "end_time": "2022-04-08T14:10:48.554307",
   "environment_variables": {},
   "exception": null,
   "input_path": "__notebook__.ipynb",
   "output_path": "__notebook__.ipynb",
   "parameters": {},
   "start_time": "2022-04-08T14:10:20.713251",
   "version": "2.3.3"
  }
 },
 "nbformat": 4,
 "nbformat_minor": 5
}
