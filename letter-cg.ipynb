{
 "cells": [
  {
   "cell_type": "code",
   "execution_count": 1,
   "id": "31a62c07",
   "metadata": {
    "_cell_guid": "b1076dfc-b9ad-4769-8c92-a6c4dae69d19",
    "_uuid": "8f2839f25d086af736a60e9eeb907d3b93b6e0e5",
    "execution": {
     "iopub.execute_input": "2022-04-08T05:31:47.540078Z",
     "iopub.status.busy": "2022-04-08T05:31:47.538814Z",
     "iopub.status.idle": "2022-04-08T05:31:47.558426Z",
     "shell.execute_reply": "2022-04-08T05:31:47.559109Z",
     "shell.execute_reply.started": "2022-04-08T05:30:34.991617Z"
    },
    "papermill": {
     "duration": 0.039951,
     "end_time": "2022-04-08T05:31:47.559487",
     "exception": false,
     "start_time": "2022-04-08T05:31:47.519536",
     "status": "completed"
    },
    "tags": []
   },
   "outputs": [
    {
     "name": "stdout",
     "output_type": "stream",
     "text": [
      "/kaggle/input/letter-cg-data/letters_CG.txt\n"
     ]
    }
   ],
   "source": [
    "# This Python 3 environment comes with many helpful analytics libraries installed\n",
    "# It is defined by the kaggle/python Docker image: https://github.com/kaggle/docker-python\n",
    "# For example, here's several helpful packages to load\n",
    "\n",
    "import numpy as np # linear algebra\n",
    "import pandas as pd # data processing, CSV file I/O (e.g. pd.read_csv)\n",
    "\n",
    "# Input data files are available in the read-only \"../input/\" directory\n",
    "# For example, running this (by clicking run or pressing Shift+Enter) will list all files under the input directory\n",
    "\n",
    "import os\n",
    "for dirname, _, filenames in os.walk('/kaggle/input'):\n",
    "    for filename in filenames:\n",
    "        print(os.path.join(dirname, filename))\n",
    "\n",
    "# You can write up to 20GB to the current directory (/kaggle/working/) that gets preserved as output when you create a version using \"Save & Run All\" \n",
    "# You can also write temporary files to /kaggle/temp/, but they won't be saved outside of the current session"
   ]
  },
  {
   "cell_type": "code",
   "execution_count": 2,
   "id": "0bb2d695",
   "metadata": {
    "execution": {
     "iopub.execute_input": "2022-04-08T05:31:47.593367Z",
     "iopub.status.busy": "2022-04-08T05:31:47.591792Z",
     "iopub.status.idle": "2022-04-08T05:31:47.595160Z",
     "shell.execute_reply": "2022-04-08T05:31:47.595709Z",
     "shell.execute_reply.started": "2022-04-08T05:30:35.052761Z"
    },
    "papermill": {
     "duration": 0.020492,
     "end_time": "2022-04-08T05:31:47.595867",
     "exception": false,
     "start_time": "2022-04-08T05:31:47.575375",
     "status": "completed"
    },
    "tags": []
   },
   "outputs": [],
   "source": [
    "import pandas as pd\n",
    "import numpy as np"
   ]
  },
  {
   "cell_type": "code",
   "execution_count": 3,
   "id": "5ca16a65",
   "metadata": {
    "execution": {
     "iopub.execute_input": "2022-04-08T05:31:47.626679Z",
     "iopub.status.busy": "2022-04-08T05:31:47.626044Z",
     "iopub.status.idle": "2022-04-08T05:31:47.706315Z",
     "shell.execute_reply": "2022-04-08T05:31:47.706844Z",
     "shell.execute_reply.started": "2022-04-08T05:30:35.118493Z"
    },
    "papermill": {
     "duration": 0.097248,
     "end_time": "2022-04-08T05:31:47.707057",
     "exception": false,
     "start_time": "2022-04-08T05:31:47.609809",
     "status": "completed"
    },
    "tags": []
   },
   "outputs": [
    {
     "data": {
      "text/html": [
       "<div>\n",
       "<style scoped>\n",
       "    .dataframe tbody tr th:only-of-type {\n",
       "        vertical-align: middle;\n",
       "    }\n",
       "\n",
       "    .dataframe tbody tr th {\n",
       "        vertical-align: top;\n",
       "    }\n",
       "\n",
       "    .dataframe thead th {\n",
       "        text-align: right;\n",
       "    }\n",
       "</style>\n",
       "<table border=\"1\" class=\"dataframe\">\n",
       "  <thead>\n",
       "    <tr style=\"text-align: right;\">\n",
       "      <th></th>\n",
       "      <th>x-box</th>\n",
       "      <th>y-box</th>\n",
       "      <th>width</th>\n",
       "      <th>high</th>\n",
       "      <th>onpix</th>\n",
       "      <th>x-bar</th>\n",
       "      <th>y-bar</th>\n",
       "      <th>x2bar</th>\n",
       "      <th>y2bar</th>\n",
       "      <th>xybar</th>\n",
       "      <th>x2ybr</th>\n",
       "      <th>xy2br</th>\n",
       "      <th>x-ege</th>\n",
       "      <th>xegvy</th>\n",
       "      <th>y-ege</th>\n",
       "      <th>yegvx</th>\n",
       "    </tr>\n",
       "  </thead>\n",
       "  <tbody>\n",
       "    <tr>\n",
       "      <th>count</th>\n",
       "      <td>1509.000000</td>\n",
       "      <td>1509.000000</td>\n",
       "      <td>1509.000000</td>\n",
       "      <td>1509.000000</td>\n",
       "      <td>1509.000000</td>\n",
       "      <td>1509.000000</td>\n",
       "      <td>1509.000000</td>\n",
       "      <td>1509.000000</td>\n",
       "      <td>1509.000000</td>\n",
       "      <td>1509.000000</td>\n",
       "      <td>1509.000000</td>\n",
       "      <td>1509.000000</td>\n",
       "      <td>1509.000000</td>\n",
       "      <td>1509.000000</td>\n",
       "      <td>1509.000000</td>\n",
       "      <td>1509.000000</td>\n",
       "    </tr>\n",
       "    <tr>\n",
       "      <th>mean</th>\n",
       "      <td>4.059642</td>\n",
       "      <td>7.025182</td>\n",
       "      <td>4.848244</td>\n",
       "      <td>5.288933</td>\n",
       "      <td>3.180915</td>\n",
       "      <td>6.169649</td>\n",
       "      <td>7.094102</td>\n",
       "      <td>5.947647</td>\n",
       "      <td>6.235255</td>\n",
       "      <td>8.084824</td>\n",
       "      <td>6.809808</td>\n",
       "      <td>10.737575</td>\n",
       "      <td>2.422797</td>\n",
       "      <td>8.616965</td>\n",
       "      <td>4.626243</td>\n",
       "      <td>8.893970</td>\n",
       "    </tr>\n",
       "    <tr>\n",
       "      <th>std</th>\n",
       "      <td>1.744379</td>\n",
       "      <td>3.327707</td>\n",
       "      <td>1.612338</td>\n",
       "      <td>2.156974</td>\n",
       "      <td>1.934883</td>\n",
       "      <td>1.296437</td>\n",
       "      <td>1.138498</td>\n",
       "      <td>1.268069</td>\n",
       "      <td>2.071898</td>\n",
       "      <td>2.059967</td>\n",
       "      <td>1.443088</td>\n",
       "      <td>2.022762</td>\n",
       "      <td>1.768471</td>\n",
       "      <td>1.081741</td>\n",
       "      <td>1.578873</td>\n",
       "      <td>1.397002</td>\n",
       "    </tr>\n",
       "    <tr>\n",
       "      <th>min</th>\n",
       "      <td>0.000000</td>\n",
       "      <td>0.000000</td>\n",
       "      <td>1.000000</td>\n",
       "      <td>0.000000</td>\n",
       "      <td>0.000000</td>\n",
       "      <td>2.000000</td>\n",
       "      <td>3.000000</td>\n",
       "      <td>2.000000</td>\n",
       "      <td>1.000000</td>\n",
       "      <td>4.000000</td>\n",
       "      <td>2.000000</td>\n",
       "      <td>4.000000</td>\n",
       "      <td>0.000000</td>\n",
       "      <td>5.000000</td>\n",
       "      <td>2.000000</td>\n",
       "      <td>4.000000</td>\n",
       "    </tr>\n",
       "    <tr>\n",
       "      <th>25%</th>\n",
       "      <td>3.000000</td>\n",
       "      <td>5.000000</td>\n",
       "      <td>4.000000</td>\n",
       "      <td>4.000000</td>\n",
       "      <td>2.000000</td>\n",
       "      <td>5.000000</td>\n",
       "      <td>6.000000</td>\n",
       "      <td>5.000000</td>\n",
       "      <td>5.000000</td>\n",
       "      <td>6.000000</td>\n",
       "      <td>6.000000</td>\n",
       "      <td>9.000000</td>\n",
       "      <td>1.000000</td>\n",
       "      <td>8.000000</td>\n",
       "      <td>4.000000</td>\n",
       "      <td>8.000000</td>\n",
       "    </tr>\n",
       "    <tr>\n",
       "      <th>50%</th>\n",
       "      <td>4.000000</td>\n",
       "      <td>7.000000</td>\n",
       "      <td>5.000000</td>\n",
       "      <td>6.000000</td>\n",
       "      <td>3.000000</td>\n",
       "      <td>6.000000</td>\n",
       "      <td>7.000000</td>\n",
       "      <td>6.000000</td>\n",
       "      <td>6.000000</td>\n",
       "      <td>8.000000</td>\n",
       "      <td>7.000000</td>\n",
       "      <td>11.000000</td>\n",
       "      <td>2.000000</td>\n",
       "      <td>9.000000</td>\n",
       "      <td>4.000000</td>\n",
       "      <td>9.000000</td>\n",
       "    </tr>\n",
       "    <tr>\n",
       "      <th>75%</th>\n",
       "      <td>5.000000</td>\n",
       "      <td>9.000000</td>\n",
       "      <td>6.000000</td>\n",
       "      <td>7.000000</td>\n",
       "      <td>4.000000</td>\n",
       "      <td>7.000000</td>\n",
       "      <td>8.000000</td>\n",
       "      <td>7.000000</td>\n",
       "      <td>8.000000</td>\n",
       "      <td>9.000000</td>\n",
       "      <td>8.000000</td>\n",
       "      <td>12.000000</td>\n",
       "      <td>3.000000</td>\n",
       "      <td>9.000000</td>\n",
       "      <td>5.000000</td>\n",
       "      <td>10.000000</td>\n",
       "    </tr>\n",
       "    <tr>\n",
       "      <th>max</th>\n",
       "      <td>10.000000</td>\n",
       "      <td>15.000000</td>\n",
       "      <td>10.000000</td>\n",
       "      <td>9.000000</td>\n",
       "      <td>12.000000</td>\n",
       "      <td>11.000000</td>\n",
       "      <td>11.000000</td>\n",
       "      <td>10.000000</td>\n",
       "      <td>12.000000</td>\n",
       "      <td>13.000000</td>\n",
       "      <td>11.000000</td>\n",
       "      <td>15.000000</td>\n",
       "      <td>11.000000</td>\n",
       "      <td>13.000000</td>\n",
       "      <td>10.000000</td>\n",
       "      <td>14.000000</td>\n",
       "    </tr>\n",
       "  </tbody>\n",
       "</table>\n",
       "</div>"
      ],
      "text/plain": [
       "             x-box        y-box        width         high        onpix  \\\n",
       "count  1509.000000  1509.000000  1509.000000  1509.000000  1509.000000   \n",
       "mean      4.059642     7.025182     4.848244     5.288933     3.180915   \n",
       "std       1.744379     3.327707     1.612338     2.156974     1.934883   \n",
       "min       0.000000     0.000000     1.000000     0.000000     0.000000   \n",
       "25%       3.000000     5.000000     4.000000     4.000000     2.000000   \n",
       "50%       4.000000     7.000000     5.000000     6.000000     3.000000   \n",
       "75%       5.000000     9.000000     6.000000     7.000000     4.000000   \n",
       "max      10.000000    15.000000    10.000000     9.000000    12.000000   \n",
       "\n",
       "             x-bar        y-bar        x2bar        y2bar        xybar  \\\n",
       "count  1509.000000  1509.000000  1509.000000  1509.000000  1509.000000   \n",
       "mean      6.169649     7.094102     5.947647     6.235255     8.084824   \n",
       "std       1.296437     1.138498     1.268069     2.071898     2.059967   \n",
       "min       2.000000     3.000000     2.000000     1.000000     4.000000   \n",
       "25%       5.000000     6.000000     5.000000     5.000000     6.000000   \n",
       "50%       6.000000     7.000000     6.000000     6.000000     8.000000   \n",
       "75%       7.000000     8.000000     7.000000     8.000000     9.000000   \n",
       "max      11.000000    11.000000    10.000000    12.000000    13.000000   \n",
       "\n",
       "             x2ybr        xy2br        x-ege        xegvy        y-ege  \\\n",
       "count  1509.000000  1509.000000  1509.000000  1509.000000  1509.000000   \n",
       "mean      6.809808    10.737575     2.422797     8.616965     4.626243   \n",
       "std       1.443088     2.022762     1.768471     1.081741     1.578873   \n",
       "min       2.000000     4.000000     0.000000     5.000000     2.000000   \n",
       "25%       6.000000     9.000000     1.000000     8.000000     4.000000   \n",
       "50%       7.000000    11.000000     2.000000     9.000000     4.000000   \n",
       "75%       8.000000    12.000000     3.000000     9.000000     5.000000   \n",
       "max      11.000000    15.000000    11.000000    13.000000    10.000000   \n",
       "\n",
       "             yegvx  \n",
       "count  1509.000000  \n",
       "mean      8.893970  \n",
       "std       1.397002  \n",
       "min       4.000000  \n",
       "25%       8.000000  \n",
       "50%       9.000000  \n",
       "75%      10.000000  \n",
       "max      14.000000  "
      ]
     },
     "execution_count": 3,
     "metadata": {},
     "output_type": "execute_result"
    }
   ],
   "source": [
    "data = pd.read_csv('../input/letter-cg-data/letters_CG.txt', sep=' ')\n",
    "onlydata=data.loc[:,'x-box':'yegvx']\n",
    "onlydata.describe(include='all')"
   ]
  },
  {
   "cell_type": "code",
   "execution_count": 4,
   "id": "16d3c074",
   "metadata": {
    "execution": {
     "iopub.execute_input": "2022-04-08T05:31:47.744598Z",
     "iopub.status.busy": "2022-04-08T05:31:47.743673Z",
     "iopub.status.idle": "2022-04-08T05:31:48.851450Z",
     "shell.execute_reply": "2022-04-08T05:31:48.850774Z",
     "shell.execute_reply.started": "2022-04-08T05:30:35.199033Z"
    },
    "papermill": {
     "duration": 1.129415,
     "end_time": "2022-04-08T05:31:48.851605",
     "exception": false,
     "start_time": "2022-04-08T05:31:47.722190",
     "status": "completed"
    },
    "tags": []
   },
   "outputs": [],
   "source": [
    "from sklearn.model_selection import train_test_split\n",
    "from sklearn import preprocessing\n",
    "X=onlydata.values\n",
    "yCG=data.values[:,0]\n",
    "y=np.zeros((yCG.size))\n",
    "y[yCG=='G']=1\n",
    "# Split data into training and testing sets\n",
    "X_train, X_test, y_train, y_test = train_test_split(X, y, test_size=0.5, random_state = 0)\n",
    "# Standardize the x_train and x_test datasets\n",
    "std_scaler = preprocessing.StandardScaler().fit(X_train)\n",
    "X_train_scaled = std_scaler.transform(X_train)\n",
    "X_test_scaled = std_scaler.transform(X_test)"
   ]
  },
  {
   "cell_type": "code",
   "execution_count": 5,
   "id": "62025501",
   "metadata": {
    "execution": {
     "iopub.execute_input": "2022-04-08T05:31:48.891273Z",
     "iopub.status.busy": "2022-04-08T05:31:48.890516Z",
     "iopub.status.idle": "2022-04-08T05:31:49.626795Z",
     "shell.execute_reply": "2022-04-08T05:31:49.626154Z",
     "shell.execute_reply.started": "2022-04-08T05:30:35.264594Z"
    },
    "papermill": {
     "duration": 0.76038,
     "end_time": "2022-04-08T05:31:49.626985",
     "exception": false,
     "start_time": "2022-04-08T05:31:48.866605",
     "status": "completed"
    },
    "tags": []
   },
   "outputs": [
    {
     "data": {
      "image/png": "[encoded data removed]",
      "text/plain": [
       "<Figure size 432x288 with 2 Axes>"
      ]
     },
     "metadata": {
      "needs_background": "light"
     },
     "output_type": "display_data"
    }
   ],
   "source": [
    "\n",
    "from sklearn.decomposition import PCA\n",
    "import matplotlib.pyplot as plt\n",
    "pca = PCA(n_components=2)\n",
    "fig, (plttrain, plttest) = plt.subplots(1, 2)\n",
    "datavl1=pca.fit_transform(X_train_scaled)\n",
    "g11=datavl1[(y_train==1)]\n",
    "g12=datavl1[(y_train==0)]\n",
    "plttrain.set_title('Train values :'+ str(X_train_scaled.shape))\n",
    "plttrain.scatter(g11[:,0],g11[:,1],marker='o',c=\"black\")\n",
    "plttrain.scatter(g12[:,0],g12[:,1],marker='+')\n",
    "plttrain.legend(['lable 1','lable 0'])\n",
    "datavl2=pca.fit_transform(X_test_scaled)\n",
    "g21=datavl2[(y_test==1)]\n",
    "g22=datavl2[(y_test==0)]\n",
    "plttest.set_title('Test values :'+str(X_test_scaled.shape))\n",
    "plttest.scatter(g21[:,0],g21[:,1],marker='o',c=\"red\")\n",
    "plttest.scatter(g22[:,0],g22[:,1],marker='+')\n",
    "plttest.legend(['lable 1','lable 0'])\n",
    "plt.savefig('lettersCG_Xtraintext.png')"
   ]
  },
  {
   "cell_type": "code",
   "execution_count": 6,
   "id": "ff506f4b",
   "metadata": {
    "execution": {
     "iopub.execute_input": "2022-04-08T05:31:49.664622Z",
     "iopub.status.busy": "2022-04-08T05:31:49.663983Z",
     "iopub.status.idle": "2022-04-08T05:31:50.095562Z",
     "shell.execute_reply": "2022-04-08T05:31:50.095003Z",
     "shell.execute_reply.started": "2022-04-08T05:30:35.863052Z"
    },
    "papermill": {
     "duration": 0.450746,
     "end_time": "2022-04-08T05:31:50.095710",
     "exception": false,
     "start_time": "2022-04-08T05:31:49.644964",
     "status": "completed"
    },
    "tags": []
   },
   "outputs": [
    {
     "data": {
      "image/png": "[encoded data removed]",
      "text/plain": [
       "<Figure size 432x288 with 1 Axes>"
      ]
     },
     "metadata": {
      "needs_background": "light"
     },
     "output_type": "display_data"
    }
   ],
   "source": [
    "from sklearn.decomposition import PCA\n",
    "import matplotlib.pyplot as plt\n",
    "pca= PCA(n_components=2)\n",
    "# fig, (plttrain, plttest) = plt.subplots(1, 2)\n",
    "datavlx=pca.fit_transform(X)\n",
    "GX01=datavlx[(y==1)]\n",
    "GX02=datavlx[(y==0)]\n",
    "plt.title('Train values :'+ str(X.shape))\n",
    "plt.scatter(GX01[:,0],GX01[:,1],marker='o',c=\"black\")\n",
    "plt.scatter(GX02[:,0],GX02[:,1],marker='+')\n",
    "plt.legend(['lable 1','lable 0'])\n",
    "plt.savefig('lettersCG_X.png')"
   ]
  },
  {
   "cell_type": "code",
   "execution_count": 7,
   "id": "3413673d",
   "metadata": {
    "execution": {
     "iopub.execute_input": "2022-04-08T05:31:50.146971Z",
     "iopub.status.busy": "2022-04-08T05:31:50.135367Z",
     "iopub.status.idle": "2022-04-08T05:31:50.148729Z",
     "shell.execute_reply": "2022-04-08T05:31:50.149246Z",
     "shell.execute_reply.started": "2022-04-08T05:30:36.247080Z"
    },
    "papermill": {
     "duration": 0.035697,
     "end_time": "2022-04-08T05:31:50.149423",
     "exception": false,
     "start_time": "2022-04-08T05:31:50.113726",
     "status": "completed"
    },
    "tags": []
   },
   "outputs": [],
   "source": [
    "class RatingModel:\n",
    "    def __init__(self, y_, y_Pr):\n",
    "      self.y_=y_\n",
    "      self.y_Pr=y_Pr\n",
    "      self.TN=np.size(y_Pr[(y_Pr==-1)&(y_==y_Pr)])\n",
    "      self.FN=np.size(y_Pr[(y_Pr==-1)&(y_!=y_Pr)])\n",
    "      self.TP=np.size(y_Pr[(y_Pr==1)&(y_==y_Pr)])\n",
    "      self.FP=np.size(y_Pr[(y_Pr==1)&(y_!=y_Pr)])\n",
    "      self.y_[self.y_==0]=-1\n",
    "      self.y_Pr[self.y_Pr==0]=-1\n",
    "       #assert self.y_.set={1, -1}\n",
    "       #assert self.y_Pr.set={1, -1}\n",
    "    def __rep__():\n",
    "        return \"\"\n",
    "    def accur_Error(self, y_, y_Pr):\n",
    "        rs=(self.TP+self.TN)/(y_.size)\n",
    "        return [rs,(1-rs)]\n",
    "    def sensitivity(self):\n",
    "        P=np.size(self.y_[self.y_==1])\n",
    "        return (self.TP)/(P)\n",
    "    def specificity(self):\n",
    "        N=np.size(self.y_[self.y_==-1])\n",
    "        return (self.TN)/(N)\n",
    "    def precision(self):\n",
    "        rs=self.TP+self.FP\n",
    "        return (self.TP)/(rs)\n",
    "    def recall(self):\n",
    "        rs=self.TP+self.FN\n",
    "        return (self.TP)/(rs)\n",
    "    def rating(self):\n",
    "        return [self.accur_Error(self.y_, self.y_Pr), self.sensitivity(), self.specificity(), self.precision(), self.recall()]"
   ]
  },
  {
   "cell_type": "code",
   "execution_count": 8,
   "id": "781c2e79",
   "metadata": {
    "execution": {
     "iopub.execute_input": "2022-04-08T05:31:50.194532Z",
     "iopub.status.busy": "2022-04-08T05:31:50.193541Z",
     "iopub.status.idle": "2022-04-08T05:31:50.202665Z",
     "shell.execute_reply": "2022-04-08T05:31:50.203228Z",
     "shell.execute_reply.started": "2022-04-08T05:30:36.264102Z"
    },
    "papermill": {
     "duration": 0.0362,
     "end_time": "2022-04-08T05:31:50.203397",
     "exception": false,
     "start_time": "2022-04-08T05:31:50.167197",
     "status": "completed"
    },
    "tags": []
   },
   "outputs": [],
   "source": [
    "class DecisionStump:\n",
    "    def __init__(self, T=100):\n",
    "        self.T = T\n",
    "        pass\n",
    "\n",
    "    def fit(self, X: np.ndarray, y: np.ndarray, sample_weight: np.ndarray):\n",
    "        T = self.T\n",
    "        W=sample_weight\n",
    "        nrow, ncol = X.shape\n",
    "        assert nrow == y.size\n",
    "\n",
    "        bestn = 0\n",
    "        bestd = 1\n",
    "        bestp = 0\n",
    "        minerr = W.sum()\n",
    "        for i in range(ncol):\n",
    "            err, d, p = self._optimize(X[:, i], y, W, T)\n",
    "            if err < minerr:\n",
    "                minerr = err\n",
    "                bestn = i\n",
    "                bestd = d\n",
    "                bestp = p\n",
    "        \n",
    "        self.features = ncol\n",
    "        self.bestn = bestn\n",
    "        self.bestd = bestd\n",
    "        self.bestp = bestp\n",
    "\n",
    "        return self\n",
    "\n",
    "    def _optimize(self, X, y, W, T):\n",
    "        X = X.flatten()\n",
    "        min_x, max_x = X.min(), X.max()\n",
    "        len_x = max_x - min_x\n",
    "        \n",
    "        bestd = 1\n",
    "        bestp = min_x\n",
    "        minerr = W.sum()\n",
    "\n",
    "        if len_x > 0.0:\n",
    "            for p in np.arange(min_x, max_x, len_x/T):\n",
    "                for d in [-1, 1]:\n",
    "                    gy = np.ones((y.size))\n",
    "                    gy[X*d < p*d] = -1\n",
    "                    err = np.sum((gy != y)*W)\n",
    "                    if err < minerr:\n",
    "                        minerr = err\n",
    "                        bestd = d\n",
    "                        bestp = p\n",
    "\n",
    "        return minerr, bestd, bestp\n",
    "\n",
    "    def predict(self, test_set : np.ndarray):\n",
    "        nrow, ncol = test_set.shape\n",
    "\n",
    "        assert ncol == self.features\n",
    "\n",
    "        icol = test_set[:, self.bestn]\n",
    "        h = np.ones((nrow))\n",
    "        h[icol*self.bestd < self.bestp*self.bestd] = -1\n",
    "        return h"
   ]
  },
  {
   "cell_type": "code",
   "execution_count": 9,
   "id": "ee02cfcd",
   "metadata": {
    "execution": {
     "iopub.execute_input": "2022-04-08T05:31:50.242052Z",
     "iopub.status.busy": "2022-04-08T05:31:50.241076Z",
     "iopub.status.idle": "2022-04-08T05:31:50.258795Z",
     "shell.execute_reply": "2022-04-08T05:31:50.259367Z",
     "shell.execute_reply.started": "2022-04-08T05:30:36.515686Z"
    },
    "papermill": {
     "duration": 0.038823,
     "end_time": "2022-04-08T05:31:50.259566",
     "exception": false,
     "start_time": "2022-04-08T05:31:50.220743",
     "status": "completed"
    },
    "tags": []
   },
   "outputs": [],
   "source": [
    "class AdaBoost:\n",
    "    def __init__(self , T, hmodel = DecisionStump()):\n",
    "        self.T=T\n",
    "        self.hmodel=hmodel\n",
    "    def fit(self, X: np.ndarray, y_: np.ndarray, verbose=False):\n",
    "      n = X.shape[0]\n",
    "      T = self.T\n",
    "      y=y_\n",
    "      y[y==0]=-1\n",
    "    # init numpy arrays\n",
    "      self.D = np.zeros(shape=(T, n))\n",
    "      self.h = np.zeros(shape=T, dtype=object)\n",
    "      self.alpha = np.zeros(shape=T)\n",
    "      self.errors = np.zeros(shape=T)\n",
    "      self.ratting = np.zeros(shape=(T,2))\n",
    "\n",
    "      # initialize weights uniformly\n",
    "      self.D[0] = np.ones(shape=n) / n\n",
    "\n",
    "      for t in range(T):\n",
    "          # fit  weak learner\n",
    "          D_ = self.D[t]\n",
    "          h_ = DecisionStump(60)\n",
    "          h_ = h_.fit(X, y, D_)\n",
    "\n",
    "          # calculate error and stump weight from weak learner prediction\n",
    "          Pr_ = h_.predict(X)\n",
    "          error_ = D_[(Pr_ != y)].sum()# / n\n",
    "          alpha_ = np.log((1 - error_) / error_) / 2\n",
    "\n",
    "          # update sample weights\n",
    "          D_new = (\n",
    "              D_ * np.exp(-alpha_ * y * Pr_)\n",
    "          )\n",
    "          \n",
    "          D_new /= D_new.sum()\n",
    "\n",
    "          # If not final iteration, update sample weights for t+1\n",
    "          if t+1 < T:\n",
    "              self.D[t+1] = D_new\n",
    "\n",
    "          # save results of iteration\n",
    "          self.h[t] = h_\n",
    "          self.alpha[t] = alpha_\n",
    "          self.errors[t] = error_\n",
    "          # ae=np.array([0,0])\n",
    "          if t>0:\n",
    "            Pr_temp=self.predictmodul(X,t)\n",
    "            modelra=RatingModel(y, Pr_temp)\n",
    "            self.ratting[t,:]=modelra.accur_Error(y, Pr_temp)\n",
    "          if verbose: print('Training {0}-th weak classifier: accuracy={1}, error={2}'.format (t, self.ratting[t,0], self.ratting[t,1]))\n",
    "      return self\n",
    "    def predict(self, X):\n",
    "        Pr_ = np.array([h_.predict(X) for h_ in self.h])\n",
    "        return np.sign(np.dot(self.alpha, Pr_))\n",
    "    def predictmodul(self, X, i):\n",
    "        h_temp=self.h[:i]\n",
    "        alpha_temp=self.alpha[:i]\n",
    "        Pr_ = np.array([h_.predict(X) for h_ in h_temp])\n",
    "        return np.sign(np.dot(alpha_temp, Pr_))\n"
   ]
  },
  {
   "cell_type": "code",
   "execution_count": 10,
   "id": "4289d5a1",
   "metadata": {
    "execution": {
     "iopub.execute_input": "2022-04-08T05:31:50.299245Z",
     "iopub.status.busy": "2022-04-08T05:31:50.298266Z",
     "iopub.status.idle": "2022-04-08T05:31:55.399574Z",
     "shell.execute_reply": "2022-04-08T05:31:55.400630Z",
     "shell.execute_reply.started": "2022-04-08T05:30:36.538116Z"
    },
    "papermill": {
     "duration": 5.123178,
     "end_time": "2022-04-08T05:31:55.400924",
     "exception": false,
     "start_time": "2022-04-08T05:31:50.277746",
     "status": "completed"
    },
    "tags": []
   },
   "outputs": [
    {
     "name": "stdout",
     "output_type": "stream",
     "text": [
      "Training 0-th weak classifier: accuracy=0.0, error=0.0\n",
      "Training 1-th weak classifier: accuracy=0.7891246684350133, error=0.21087533156498672\n",
      "Training 2-th weak classifier: accuracy=0.7891246684350133, error=0.21087533156498672\n",
      "Training 3-th weak classifier: accuracy=0.8488063660477454, error=0.1511936339522546\n",
      "Training 4-th weak classifier: accuracy=0.8488063660477454, error=0.1511936339522546\n",
      "Training 5-th weak classifier: accuracy=0.8607427055702918, error=0.13925729442970824\n",
      "Training 6-th weak classifier: accuracy=0.8726790450928382, error=0.12732095490716178\n",
      "Training 7-th weak classifier: accuracy=0.8607427055702918, error=0.13925729442970824\n",
      "Training 8-th weak classifier: accuracy=0.8713527851458885, error=0.12864721485411146\n",
      "Training 9-th weak classifier: accuracy=0.8647214854111406, error=0.13527851458885942\n",
      "Training 10-th weak classifier: accuracy=0.8992042440318302, error=0.10079575596816981\n",
      "Training 11-th weak classifier: accuracy=0.9098143236074271, error=0.09018567639257291\n",
      "Training 12-th weak classifier: accuracy=0.9124668435013262, error=0.08753315649867377\n",
      "Training 13-th weak classifier: accuracy=0.9297082228116711, error=0.07029177718832891\n",
      "Training 14-th weak classifier: accuracy=0.9151193633952255, error=0.08488063660477452\n",
      "Training 15-th weak classifier: accuracy=0.9084880636604774, error=0.09151193633952259\n",
      "Training 16-th weak classifier: accuracy=0.9230769230769231, error=0.07692307692307687\n",
      "Training 17-th weak classifier: accuracy=0.9257294429708223, error=0.07427055702917773\n",
      "Training 18-th weak classifier: accuracy=0.9257294429708223, error=0.07427055702917773\n",
      "Training 19-th weak classifier: accuracy=0.9230769230769231, error=0.07692307692307687\n",
      "Training 20-th weak classifier: accuracy=0.9297082228116711, error=0.07029177718832891\n",
      "Training 21-th weak classifier: accuracy=0.9257294429708223, error=0.07427055702917773\n",
      "Training 22-th weak classifier: accuracy=0.9257294429708223, error=0.07427055702917773\n",
      "Training 23-th weak classifier: accuracy=0.9310344827586207, error=0.06896551724137934\n",
      "Training 24-th weak classifier: accuracy=0.9323607427055703, error=0.06763925729442966\n",
      "Training 25-th weak classifier: accuracy=0.9297082228116711, error=0.07029177718832891\n",
      "Training 26-th weak classifier: accuracy=0.9429708222811671, error=0.05702917771883287\n",
      "Training 27-th weak classifier: accuracy=0.9389920424403183, error=0.06100795755968169\n",
      "Training 28-th weak classifier: accuracy=0.9376657824933687, error=0.06233421750663126\n",
      "Training 29-th weak classifier: accuracy=0.9363395225464191, error=0.06366047745358094\n",
      "Training 30-th weak classifier: accuracy=0.9403183023872679, error=0.05968169761273212\n",
      "Training 31-th weak classifier: accuracy=0.9429708222811671, error=0.05702917771883287\n",
      "Training 32-th weak classifier: accuracy=0.9429708222811671, error=0.05702917771883287\n",
      "Training 33-th weak classifier: accuracy=0.9429708222811671, error=0.05702917771883287\n",
      "Training 34-th weak classifier: accuracy=0.9350132625994695, error=0.06498673740053051\n",
      "Training 35-th weak classifier: accuracy=0.9456233421750663, error=0.05437665782493373\n",
      "Training 36-th weak classifier: accuracy=0.9442970822281167, error=0.0557029177718833\n",
      "Training 37-th weak classifier: accuracy=0.9442970822281167, error=0.0557029177718833\n",
      "Training 38-th weak classifier: accuracy=0.9456233421750663, error=0.05437665782493373\n",
      "Training 39-th weak classifier: accuracy=0.9509283819628647, error=0.049071618037135334\n",
      "Training 40-th weak classifier: accuracy=0.9496021220159151, error=0.050397877984084904\n",
      "Training 41-th weak classifier: accuracy=0.9522546419098143, error=0.04774535809018565\n",
      "Training 42-th weak classifier: accuracy=0.9496021220159151, error=0.050397877984084904\n",
      "Training 43-th weak classifier: accuracy=0.9496021220159151, error=0.050397877984084904\n",
      "Training 44-th weak classifier: accuracy=0.9496021220159151, error=0.050397877984084904\n",
      "Training 45-th weak classifier: accuracy=0.9496021220159151, error=0.050397877984084904\n",
      "Training 46-th weak classifier: accuracy=0.9549071618037135, error=0.04509283819628651\n",
      "Training 47-th weak classifier: accuracy=0.9522546419098143, error=0.04774535809018565\n",
      "Training 48-th weak classifier: accuracy=0.9509283819628647, error=0.049071618037135334\n",
      "Training 49-th weak classifier: accuracy=0.9575596816976127, error=0.04244031830238726\n",
      "Training 50-th weak classifier: accuracy=0.9562334217506632, error=0.04376657824933683\n",
      "Training 51-th weak classifier: accuracy=0.9575596816976127, error=0.04244031830238726\n",
      "Training 52-th weak classifier: accuracy=0.9588859416445623, error=0.04111405835543769\n",
      "Training 53-th weak classifier: accuracy=0.9575596816976127, error=0.04244031830238726\n",
      "Training 54-th weak classifier: accuracy=0.9575596816976127, error=0.04244031830238726\n",
      "Training 55-th weak classifier: accuracy=0.9602122015915119, error=0.03978779840848812\n",
      "Training 56-th weak classifier: accuracy=0.9615384615384616, error=0.038461538461538436\n",
      "Training 57-th weak classifier: accuracy=0.9615384615384616, error=0.038461538461538436\n",
      "Training 58-th weak classifier: accuracy=0.9575596816976127, error=0.04244031830238726\n",
      "Training 59-th weak classifier: accuracy=0.9628647214854111, error=0.037135278514588865\n"
     ]
    }
   ],
   "source": [
    "model=AdaBoost(60)\n",
    "model=model.fit(X_train_scaled, y_train,  True )\n",
    "Pr=model.predict( X_test_scaled)\n",
    "Pr[(Pr==0)]=-1\n",
    "# print(Pr, y_test)"
   ]
  },
  {
   "cell_type": "code",
   "execution_count": 11,
   "id": "4b7219ca",
   "metadata": {
    "execution": {
     "iopub.execute_input": "2022-04-08T05:31:55.529146Z",
     "iopub.status.busy": "2022-04-08T05:31:55.522419Z",
     "iopub.status.idle": "2022-04-08T05:31:55.883866Z",
     "shell.execute_reply": "2022-04-08T05:31:55.883357Z",
     "shell.execute_reply.started": "2022-04-08T05:30:41.755536Z"
    },
    "papermill": {
     "duration": 0.408189,
     "end_time": "2022-04-08T05:31:55.884038",
     "exception": false,
     "start_time": "2022-04-08T05:31:55.475849",
     "status": "completed"
    },
    "tags": []
   },
   "outputs": [
    {
     "name": "stderr",
     "output_type": "stream",
     "text": [
      "/opt/conda/lib/python3.7/site-packages/ipykernel_launcher.py:12: UserWarning: color is redundantly defined by the 'color' keyword argument and the fmt string \"g-\" (-> color='g'). The keyword argument will take precedence.\n",
      "  if sys.path[0] == '':\n",
      "/opt/conda/lib/python3.7/site-packages/ipykernel_launcher.py:13: UserWarning: color is redundantly defined by the 'color' keyword argument and the fmt string \"r-\" (-> color='r'). The keyword argument will take precedence.\n",
      "  del sys.path[0]\n"
     ]
    },
    {
     "data": {
      "text/plain": [
       "[<matplotlib.lines.Line2D at 0x7f4713aa34d0>]"
      ]
     },
     "execution_count": 11,
     "metadata": {},
     "output_type": "execute_result"
    },
    {
     "data": {
      "image/png": "[encoded data removed]",
      "text/plain": [
       "<Figure size 432x288 with 1 Axes>"
      ]
     },
     "metadata": {
      "needs_background": "light"
     },
     "output_type": "display_data"
    }
   ],
   "source": [
    "ra_Xtest = np.zeros(shape=(model.T,2))\n",
    "for i in range(1,model.T):\n",
    "  Pr_i=model.predictmodul(X_test_scaled,i)\n",
    "  modelra=RatingModel(y_test, Pr_i)\n",
    "  ra_Xtest[i,:]=modelra.accur_Error(y_test, Pr_i)\n",
    "ra_Xtrain = np.zeros(shape=(model.T,2))\n",
    "for i in range(1,model.T):\n",
    "  Pr_i=model.predictmodul(X_train_scaled,i)\n",
    "  modelra=RatingModel(y_train, Pr_i)\n",
    "  ra_Xtrain[i,:]=modelra.accur_Error(y_train, Pr_i)\n",
    "iter=range(model.T)\n",
    "plt.plot(iter,ra_Xtest[:,0],'g-', label='Test accuracy',c=\"black\")\n",
    "plt.plot(iter,ra_Xtest[:,1],'r-', label='Test error',c=\"blue\")\n",
    "plt.plot(iter,ra_Xtrain[:,0],'g--', label='Train accuracy')\n",
    "plt.plot(iter,ra_Xtrain[:,1],'r--', label='Train error')\n",
    "\n"
   ]
  },
  {
   "cell_type": "code",
   "execution_count": 12,
   "id": "a8f18055",
   "metadata": {
    "execution": {
     "iopub.execute_input": "2022-04-08T05:31:55.940634Z",
     "iopub.status.busy": "2022-04-08T05:31:55.939960Z",
     "iopub.status.idle": "2022-04-08T05:31:56.305338Z",
     "shell.execute_reply": "2022-04-08T05:31:56.305870Z",
     "shell.execute_reply.started": "2022-04-08T05:30:42.163319Z"
    },
    "papermill": {
     "duration": 0.395291,
     "end_time": "2022-04-08T05:31:56.306073",
     "exception": false,
     "start_time": "2022-04-08T05:31:55.910782",
     "status": "completed"
    },
    "tags": []
   },
   "outputs": [
    {
     "data": {
      "image/png": "[encoded data removed]",
      "text/plain": [
       "<Figure size 432x288 with 1 Axes>"
      ]
     },
     "metadata": {
      "needs_background": "light"
     },
     "output_type": "display_data"
    }
   ],
   "source": [
    "sumerror=0;\n",
    "y_new=y_test\n",
    "y_new[y_new==0]=-1\n",
    "# for i in range(y_new.shape[0]):\n",
    "#   if y_new[i]!=Pr[i]: \n",
    "#     sumerror+=1\n",
    "sumerror=np.size(y_new[Pr!=y_new])\n",
    "gT1=datavl2[(Pr==1)]\n",
    "gT0=datavl2[(Pr==-1)]\n",
    "gF1=datavl2[(y_new!=Pr)&(Pr==1)]\n",
    "gF0=datavl2[(y_new!=Pr)&(Pr==-1)]\n",
    "plt.title('Test values errors :'+str(sumerror)+'/ '+str(X_test_scaled.shape[0]))\n",
    "plt.scatter(gT1[:,0],gT1[:,1], marker='o',c=\"black\")\n",
    "plt.scatter(gT0[:,0],gT0[:,1], marker='+')\n",
    "plt.scatter(gF1[:,0],gF1[:,1], c=\"yellow\", marker='o')\n",
    "plt.scatter(gF0[:,0],gF0[:,1], c=\"red\", marker='+')\n",
    "plt.legend(['TP C','TN G','FP C','FN G'])\n",
    "plt.savefig('lettersCG_XtextError.png')"
   ]
  }
 ],
 "metadata": {
  "kernelspec": {
   "display_name": "Python 3",
   "language": "python",
   "name": "python3"
  },
  "language_info": {
   "codemirror_mode": {
    "name": "ipython",
    "version": 3
   },
   "file_extension": ".py",
   "mimetype": "text/x-python",
   "name": "python",
   "nbconvert_exporter": "python",
   "pygments_lexer": "ipython3",
   "version": "3.7.12"
  },
  "papermill": {
   "default_parameters": {},
   "duration": 19.508805,
   "end_time": "2022-04-08T05:31:57.045199",
   "environment_variables": {},
   "exception": null,
   "input_path": "__notebook__.ipynb",
   "output_path": "__notebook__.ipynb",
   "parameters": {},
   "start_time": "2022-04-08T05:31:37.536394",
   "version": "2.3.3"
  }
 },
 "nbformat": 4,
 "nbformat_minor": 5
}
